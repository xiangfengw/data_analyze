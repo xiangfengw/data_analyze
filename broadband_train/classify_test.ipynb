{
 "cells": [
  {
   "cell_type": "code",
   "execution_count": 1,
   "metadata": {},
   "outputs": [],
   "source": [
    "import pandas as pd\n",
    "\n",
    "# 读取数据\n",
    "broadband = pd.read_csv('broadband_train.csv', encoding=\"ansi\")"
   ]
  },
  {
   "cell_type": "code",
   "execution_count": 2,
   "metadata": {},
   "outputs": [
    {
     "data": {
      "text/html": [
       "<div>\n",
       "<style scoped>\n",
       "    .dataframe tbody tr th:only-of-type {\n",
       "        vertical-align: middle;\n",
       "    }\n",
       "\n",
       "    .dataframe tbody tr th {\n",
       "        vertical-align: top;\n",
       "    }\n",
       "\n",
       "    .dataframe thead th {\n",
       "        text-align: right;\n",
       "    }\n",
       "</style>\n",
       "<table border=\"1\" class=\"dataframe\">\n",
       "  <thead>\n",
       "    <tr style=\"text-align: right;\">\n",
       "      <th></th>\n",
       "      <th>CUST_ID</th>\n",
       "      <th>GENDER</th>\n",
       "      <th>AGE</th>\n",
       "      <th>TENURE</th>\n",
       "      <th>CHANNEL</th>\n",
       "      <th>AUTOPAY</th>\n",
       "      <th>ARPU_3M</th>\n",
       "      <th>CALL_PARTY_CNT</th>\n",
       "      <th>DAY_MOU</th>\n",
       "      <th>AFTERNOON_MOU</th>\n",
       "      <th>NIGHT_MOU</th>\n",
       "      <th>AVG_CALL_LENGTH</th>\n",
       "      <th>BROADBAND</th>\n",
       "    </tr>\n",
       "  </thead>\n",
       "  <tbody>\n",
       "    <tr>\n",
       "      <th>0</th>\n",
       "      <td>63</td>\n",
       "      <td>男</td>\n",
       "      <td>34</td>\n",
       "      <td>27</td>\n",
       "      <td>2</td>\n",
       "      <td>否</td>\n",
       "      <td>203.0</td>\n",
       "      <td>0.0</td>\n",
       "      <td>0.0</td>\n",
       "      <td>0.0</td>\n",
       "      <td>0.0</td>\n",
       "      <td>3.04</td>\n",
       "      <td>1</td>\n",
       "    </tr>\n",
       "    <tr>\n",
       "      <th>1</th>\n",
       "      <td>64</td>\n",
       "      <td>NaN</td>\n",
       "      <td>62</td>\n",
       "      <td>58</td>\n",
       "      <td>1</td>\n",
       "      <td>否</td>\n",
       "      <td>360.0</td>\n",
       "      <td>NaN</td>\n",
       "      <td>0.0</td>\n",
       "      <td>1910.0</td>\n",
       "      <td>0.0</td>\n",
       "      <td>3.30</td>\n",
       "      <td>1</td>\n",
       "    </tr>\n",
       "    <tr>\n",
       "      <th>2</th>\n",
       "      <td>65</td>\n",
       "      <td>男</td>\n",
       "      <td>39</td>\n",
       "      <td>55</td>\n",
       "      <td>3</td>\n",
       "      <td>NaN</td>\n",
       "      <td>304.0</td>\n",
       "      <td>0.0</td>\n",
       "      <td>437.2</td>\n",
       "      <td>200.3</td>\n",
       "      <td>NaN</td>\n",
       "      <td>4.92</td>\n",
       "      <td>0</td>\n",
       "    </tr>\n",
       "    <tr>\n",
       "      <th>3</th>\n",
       "      <td>66</td>\n",
       "      <td>NaN</td>\n",
       "      <td>39</td>\n",
       "      <td>55</td>\n",
       "      <td>3</td>\n",
       "      <td>否</td>\n",
       "      <td>304.0</td>\n",
       "      <td>0.0</td>\n",
       "      <td>437.2</td>\n",
       "      <td>182.8</td>\n",
       "      <td>0.0</td>\n",
       "      <td>4.92</td>\n",
       "      <td>0</td>\n",
       "    </tr>\n",
       "    <tr>\n",
       "      <th>4</th>\n",
       "      <td>67</td>\n",
       "      <td>男</td>\n",
       "      <td>39</td>\n",
       "      <td>55</td>\n",
       "      <td>3</td>\n",
       "      <td>否</td>\n",
       "      <td>NaN</td>\n",
       "      <td>NaN</td>\n",
       "      <td>NaN</td>\n",
       "      <td>214.5</td>\n",
       "      <td>0.0</td>\n",
       "      <td>4.92</td>\n",
       "      <td>0</td>\n",
       "    </tr>\n",
       "  </tbody>\n",
       "</table>\n",
       "</div>"
      ],
      "text/plain": [
       "   CUST_ID GENDER  AGE  TENURE  CHANNEL AUTOPAY  ARPU_3M  CALL_PARTY_CNT  \\\n",
       "0       63      男   34      27        2       否    203.0             0.0   \n",
       "1       64    NaN   62      58        1       否    360.0             NaN   \n",
       "2       65      男   39      55        3     NaN    304.0             0.0   \n",
       "3       66    NaN   39      55        3       否    304.0             0.0   \n",
       "4       67      男   39      55        3       否      NaN             NaN   \n",
       "\n",
       "   DAY_MOU  AFTERNOON_MOU  NIGHT_MOU  AVG_CALL_LENGTH  BROADBAND  \n",
       "0      0.0            0.0        0.0             3.04          1  \n",
       "1      0.0         1910.0        0.0             3.30          1  \n",
       "2    437.2          200.3        NaN             4.92          0  \n",
       "3    437.2          182.8        0.0             4.92          0  \n",
       "4      NaN          214.5        0.0             4.92          0  "
      ]
     },
     "execution_count": 2,
     "metadata": {},
     "output_type": "execute_result"
    }
   ],
   "source": [
    "# 查看数据信息\n",
    "broadband.head()"
   ]
  },
  {
   "cell_type": "code",
   "execution_count": 3,
   "metadata": {},
   "outputs": [
    {
     "data": {
      "text/plain": [
       "pandas.core.frame.DataFrame"
      ]
     },
     "execution_count": 3,
     "metadata": {},
     "output_type": "execute_result"
    }
   ],
   "source": [
    "type(broadband)"
   ]
  },
  {
   "cell_type": "code",
   "execution_count": 4,
   "metadata": {},
   "outputs": [
    {
     "name": "stdout",
     "output_type": "stream",
     "text": [
      "<class 'pandas.core.frame.DataFrame'>\n",
      "RangeIndex: 999 entries, 0 to 998\n",
      "Data columns (total 13 columns):\n",
      "CUST_ID            999 non-null int64\n",
      "GENDER             990 non-null object\n",
      "AGE                999 non-null int64\n",
      "TENURE             999 non-null int64\n",
      "CHANNEL            999 non-null int64\n",
      "AUTOPAY            993 non-null object\n",
      "ARPU_3M            995 non-null float64\n",
      "CALL_PARTY_CNT     993 non-null float64\n",
      "DAY_MOU            994 non-null float64\n",
      "AFTERNOON_MOU      999 non-null float64\n",
      "NIGHT_MOU          991 non-null float64\n",
      "AVG_CALL_LENGTH    999 non-null float64\n",
      "BROADBAND          999 non-null int64\n",
      "dtypes: float64(6), int64(5), object(2)\n",
      "memory usage: 101.5+ KB\n"
     ]
    }
   ],
   "source": [
    "broadband.info()"
   ]
  },
  {
   "cell_type": "code",
   "execution_count": 5,
   "metadata": {},
   "outputs": [
    {
     "data": {
      "text/html": [
       "<div>\n",
       "<style scoped>\n",
       "    .dataframe tbody tr th:only-of-type {\n",
       "        vertical-align: middle;\n",
       "    }\n",
       "\n",
       "    .dataframe tbody tr th {\n",
       "        vertical-align: top;\n",
       "    }\n",
       "\n",
       "    .dataframe thead th {\n",
       "        text-align: right;\n",
       "    }\n",
       "</style>\n",
       "<table border=\"1\" class=\"dataframe\">\n",
       "  <thead>\n",
       "    <tr style=\"text-align: right;\">\n",
       "      <th></th>\n",
       "      <th>CUST_ID</th>\n",
       "      <th>AGE</th>\n",
       "      <th>TENURE</th>\n",
       "      <th>CHANNEL</th>\n",
       "      <th>ARPU_3M</th>\n",
       "      <th>CALL_PARTY_CNT</th>\n",
       "      <th>DAY_MOU</th>\n",
       "      <th>AFTERNOON_MOU</th>\n",
       "      <th>NIGHT_MOU</th>\n",
       "      <th>AVG_CALL_LENGTH</th>\n",
       "      <th>BROADBAND</th>\n",
       "    </tr>\n",
       "  </thead>\n",
       "  <tbody>\n",
       "    <tr>\n",
       "      <th>count</th>\n",
       "      <td>999.000000</td>\n",
       "      <td>999.000000</td>\n",
       "      <td>999.000000</td>\n",
       "      <td>999.000000</td>\n",
       "      <td>995.000000</td>\n",
       "      <td>993.000000</td>\n",
       "      <td>994.000000</td>\n",
       "      <td>999.000000</td>\n",
       "      <td>991.000000</td>\n",
       "      <td>999.000000</td>\n",
       "      <td>999.000000</td>\n",
       "    </tr>\n",
       "    <tr>\n",
       "      <th>mean</th>\n",
       "      <td>554.638639</td>\n",
       "      <td>37.899900</td>\n",
       "      <td>26.290290</td>\n",
       "      <td>2.551552</td>\n",
       "      <td>228.249246</td>\n",
       "      <td>9.303122</td>\n",
       "      <td>84.921630</td>\n",
       "      <td>198.063664</td>\n",
       "      <td>89.851867</td>\n",
       "      <td>3.898418</td>\n",
       "      <td>0.184184</td>\n",
       "    </tr>\n",
       "    <tr>\n",
       "      <th>std</th>\n",
       "      <td>338.598231</td>\n",
       "      <td>11.046177</td>\n",
       "      <td>18.300208</td>\n",
       "      <td>1.168686</td>\n",
       "      <td>153.579943</td>\n",
       "      <td>11.241922</td>\n",
       "      <td>180.975014</td>\n",
       "      <td>464.657034</td>\n",
       "      <td>206.920991</td>\n",
       "      <td>0.765869</td>\n",
       "      <td>0.387828</td>\n",
       "    </tr>\n",
       "    <tr>\n",
       "      <th>min</th>\n",
       "      <td>1.000000</td>\n",
       "      <td>18.000000</td>\n",
       "      <td>1.000000</td>\n",
       "      <td>1.000000</td>\n",
       "      <td>68.000000</td>\n",
       "      <td>0.000000</td>\n",
       "      <td>0.000000</td>\n",
       "      <td>0.000000</td>\n",
       "      <td>0.000000</td>\n",
       "      <td>2.200000</td>\n",
       "      <td>0.000000</td>\n",
       "    </tr>\n",
       "    <tr>\n",
       "      <th>25%</th>\n",
       "      <td>250.500000</td>\n",
       "      <td>30.000000</td>\n",
       "      <td>13.000000</td>\n",
       "      <td>1.000000</td>\n",
       "      <td>150.000000</td>\n",
       "      <td>0.000000</td>\n",
       "      <td>0.000000</td>\n",
       "      <td>0.000000</td>\n",
       "      <td>0.000000</td>\n",
       "      <td>3.315000</td>\n",
       "      <td>0.000000</td>\n",
       "    </tr>\n",
       "    <tr>\n",
       "      <th>50%</th>\n",
       "      <td>560.000000</td>\n",
       "      <td>36.000000</td>\n",
       "      <td>19.000000</td>\n",
       "      <td>3.000000</td>\n",
       "      <td>189.000000</td>\n",
       "      <td>5.000000</td>\n",
       "      <td>0.000000</td>\n",
       "      <td>26.600000</td>\n",
       "      <td>0.000000</td>\n",
       "      <td>3.830000</td>\n",
       "      <td>0.000000</td>\n",
       "    </tr>\n",
       "    <tr>\n",
       "      <th>75%</th>\n",
       "      <td>864.500000</td>\n",
       "      <td>45.000000</td>\n",
       "      <td>38.000000</td>\n",
       "      <td>4.000000</td>\n",
       "      <td>254.000000</td>\n",
       "      <td>17.000000</td>\n",
       "      <td>69.800000</td>\n",
       "      <td>192.050000</td>\n",
       "      <td>77.600000</td>\n",
       "      <td>4.380000</td>\n",
       "      <td>0.000000</td>\n",
       "    </tr>\n",
       "    <tr>\n",
       "      <th>max</th>\n",
       "      <td>1114.000000</td>\n",
       "      <td>76.000000</td>\n",
       "      <td>72.000000</td>\n",
       "      <td>4.000000</td>\n",
       "      <td>2049.000000</td>\n",
       "      <td>51.000000</td>\n",
       "      <td>1162.400000</td>\n",
       "      <td>4915.000000</td>\n",
       "      <td>1502.100000</td>\n",
       "      <td>6.830000</td>\n",
       "      <td>1.000000</td>\n",
       "    </tr>\n",
       "  </tbody>\n",
       "</table>\n",
       "</div>"
      ],
      "text/plain": [
       "           CUST_ID         AGE      TENURE     CHANNEL      ARPU_3M  \\\n",
       "count   999.000000  999.000000  999.000000  999.000000   995.000000   \n",
       "mean    554.638639   37.899900   26.290290    2.551552   228.249246   \n",
       "std     338.598231   11.046177   18.300208    1.168686   153.579943   \n",
       "min       1.000000   18.000000    1.000000    1.000000    68.000000   \n",
       "25%     250.500000   30.000000   13.000000    1.000000   150.000000   \n",
       "50%     560.000000   36.000000   19.000000    3.000000   189.000000   \n",
       "75%     864.500000   45.000000   38.000000    4.000000   254.000000   \n",
       "max    1114.000000   76.000000   72.000000    4.000000  2049.000000   \n",
       "\n",
       "       CALL_PARTY_CNT      DAY_MOU  AFTERNOON_MOU    NIGHT_MOU  \\\n",
       "count      993.000000   994.000000     999.000000   991.000000   \n",
       "mean         9.303122    84.921630     198.063664    89.851867   \n",
       "std         11.241922   180.975014     464.657034   206.920991   \n",
       "min          0.000000     0.000000       0.000000     0.000000   \n",
       "25%          0.000000     0.000000       0.000000     0.000000   \n",
       "50%          5.000000     0.000000      26.600000     0.000000   \n",
       "75%         17.000000    69.800000     192.050000    77.600000   \n",
       "max         51.000000  1162.400000    4915.000000  1502.100000   \n",
       "\n",
       "       AVG_CALL_LENGTH   BROADBAND  \n",
       "count       999.000000  999.000000  \n",
       "mean          3.898418    0.184184  \n",
       "std           0.765869    0.387828  \n",
       "min           2.200000    0.000000  \n",
       "25%           3.315000    0.000000  \n",
       "50%           3.830000    0.000000  \n",
       "75%           4.380000    0.000000  \n",
       "max           6.830000    1.000000  "
      ]
     },
     "execution_count": 5,
     "metadata": {},
     "output_type": "execute_result"
    }
   ],
   "source": [
    "broadband.describe()"
   ]
  },
  {
   "cell_type": "code",
   "execution_count": 6,
   "metadata": {},
   "outputs": [
    {
     "name": "stdout",
     "output_type": "stream",
     "text": [
      "<class 'pandas.core.frame.DataFrame'>\n",
      "Int64Index: 965 entries, 0 to 998\n",
      "Data columns (total 13 columns):\n",
      "CUST_ID            965 non-null int64\n",
      "GENDER             965 non-null object\n",
      "AGE                965 non-null int64\n",
      "TENURE             965 non-null int64\n",
      "CHANNEL            965 non-null int64\n",
      "AUTOPAY            965 non-null object\n",
      "ARPU_3M            965 non-null float64\n",
      "CALL_PARTY_CNT     965 non-null float64\n",
      "DAY_MOU            965 non-null float64\n",
      "AFTERNOON_MOU      965 non-null float64\n",
      "NIGHT_MOU          965 non-null float64\n",
      "AVG_CALL_LENGTH    965 non-null float64\n",
      "BROADBAND          965 non-null int64\n",
      "dtypes: float64(6), int64(5), object(2)\n",
      "memory usage: 105.5+ KB\n"
     ]
    }
   ],
   "source": [
    "# 数据清洗\n",
    "# 缺失值处理，因为含有缺失值的行数不多，所以这里选择删除处理\n",
    "broadband = broadband.dropna()\n",
    "broadband.info()"
   ]
  },
  {
   "cell_type": "code",
   "execution_count": 7,
   "metadata": {},
   "outputs": [],
   "source": [
    "# 将GENDER(性别)和AUTOPAY(自动充值)两列进行类型转换，用1、0代表男生、女生；1代表自动充值、0代表没有自动充值\n",
    "gender = broadband.GENDER.copy()\n",
    "for i in broadband.index.values:\n",
    "    gender[i] = gender[i].replace(\"男\",\"1\")\n",
    "    gender[i] = gender[i].replace(\"女\",\"0\")\n",
    "autopay = broadband.AUTOPAY.copy()\n",
    "for i in broadband.index.values:\n",
    "    autopay[i] = autopay[i].replace(\"是\",\"1\")\n",
    "    autopay[i] = autopay[i].replace(\"否\",\"0\")\n",
    "broadband.GENDER = gender.copy()\n",
    "broadband.AUTOPAY = autopay.copy()"
   ]
  },
  {
   "cell_type": "code",
   "execution_count": 8,
   "metadata": {},
   "outputs": [],
   "source": [
    "# 按客户编码排序\n",
    "broadband = broadband.sort_values(by='CUST_ID', ascending=True)"
   ]
  },
  {
   "cell_type": "code",
   "execution_count": 9,
   "metadata": {},
   "outputs": [],
   "source": [
    "# 将行号按顺序\n",
    "broadband = broadband.reset_index(drop=True)"
   ]
  },
  {
   "cell_type": "code",
   "execution_count": 10,
   "metadata": {},
   "outputs": [],
   "source": [
    "# 目标是预测宽带营销响应 即BROADBAND列\n",
    "# 首先将数据集划分为训练集与测试集\n",
    "# 使用交叉验证法\n",
    "# https://www.cnblogs.com/ysugyl/p/8707887.html\n",
    "# https://blog.csdn.net/luanpeng825485697/article/details/79836262\n",
    "\n",
    "broadband_data = broadband.loc[:,'CUST_ID':'AVG_CALL_LENGTH']\n",
    "\n",
    "# 留出集验证\n",
    "from sklearn.model_selection import train_test_split\n",
    "X_train,X_test,y_train,y_test = train_test_split(broadband_data, broadband.BROADBAND, test_size=0.2, random_state=0)"
   ]
  },
  {
   "cell_type": "code",
   "execution_count": 11,
   "metadata": {},
   "outputs": [
    {
     "data": {
      "text/plain": [
       "pandas.core.frame.DataFrame"
      ]
     },
     "execution_count": 11,
     "metadata": {},
     "output_type": "execute_result"
    }
   ],
   "source": [
    "type(X_train)"
   ]
  },
  {
   "cell_type": "code",
   "execution_count": 12,
   "metadata": {},
   "outputs": [
    {
     "name": "stdout",
     "output_type": "stream",
     "text": [
      "CUST_ID              int64\n",
      "GENDER              object\n",
      "AGE                  int64\n",
      "TENURE               int64\n",
      "CHANNEL              int64\n",
      "AUTOPAY             object\n",
      "ARPU_3M            float64\n",
      "CALL_PARTY_CNT     float64\n",
      "DAY_MOU            float64\n",
      "AFTERNOON_MOU      float64\n",
      "NIGHT_MOU          float64\n",
      "AVG_CALL_LENGTH    float64\n",
      "dtype: object\n"
     ]
    }
   ],
   "source": [
    "print(X_train.dtypes)"
   ]
  },
  {
   "cell_type": "code",
   "execution_count": 13,
   "metadata": {},
   "outputs": [
    {
     "data": {
      "text/plain": [
       "GaussianNB(priors=None, var_smoothing=1e-09)"
      ]
     },
     "execution_count": 13,
     "metadata": {},
     "output_type": "execute_result"
    }
   ],
   "source": [
    "# 使用算法进行分类与验证\n",
    "# 高斯朴素贝叶斯\n",
    "from sklearn.naive_bayes import GaussianNB\n",
    "\n",
    "model = GaussianNB()\n",
    "model.fit(X_train, y_train)"
   ]
  },
  {
   "cell_type": "code",
   "execution_count": 14,
   "metadata": {
    "scrolled": false
   },
   "outputs": [],
   "source": [
    "y_pre = model.predict(X_test)"
   ]
  },
  {
   "cell_type": "code",
   "execution_count": 15,
   "metadata": {},
   "outputs": [
    {
     "name": "stdout",
     "output_type": "stream",
     "text": [
      "高斯朴素贝叶斯分类\n",
      "精确率：0.733333，召回率：0.628571，F1：0.676923\n"
     ]
    }
   ],
   "source": [
    "# 计算精确率 召回率 F1\n",
    "from sklearn.metrics import precision_score, recall_score, f1_score\n",
    "\n",
    "pre = precision_score(y_test, y_pre)\n",
    "recall = recall_score(y_test, y_pre)\n",
    "f1 = f1_score(y_test, y_pre)\n",
    "\n",
    "print(\"高斯朴素贝叶斯分类\\n精确率：%f，召回率：%f，F1：%f\" % (pre, recall, f1))"
   ]
  },
  {
   "cell_type": "code",
   "execution_count": 16,
   "metadata": {},
   "outputs": [
    {
     "name": "stdout",
     "output_type": "stream",
     "text": [
      "DecisionTreeClassifier(class_weight=None, criterion='gini', max_depth=None,\n",
      "            max_features=None, max_leaf_nodes=None,\n",
      "            min_impurity_decrease=0.0, min_impurity_split=None,\n",
      "            min_samples_leaf=1, min_samples_split=2,\n",
      "            min_weight_fraction_leaf=0.0, presort=False, random_state=1,\n",
      "            splitter='best')\n",
      "0.9119170984455959\n"
     ]
    }
   ],
   "source": [
    "# 决策树分类\n",
    "from sklearn.tree import DecisionTreeClassifier\n",
    "tree_clf = DecisionTreeClassifier(random_state=1)\n",
    "tree_clf = tree_clf.fit(X_train, y_train)\n",
    "print(tree_clf)\n",
    "print(tree_clf.score(X_test, y_test))"
   ]
  },
  {
   "cell_type": "code",
   "execution_count": 17,
   "metadata": {
    "scrolled": true
   },
   "outputs": [],
   "source": [
    "# feature_importances_属性能够查看各个特征对模型的重要性\n",
    "# tree_clf.feature_importances_"
   ]
  },
  {
   "cell_type": "code",
   "execution_count": 18,
   "metadata": {},
   "outputs": [
    {
     "name": "stdout",
     "output_type": "stream",
     "text": [
      "决策树分类\n",
      "精确率：0.875000，召回率：0.600000，F1：0.711864\n"
     ]
    }
   ],
   "source": [
    "# 计算精确率 召回率 F1\n",
    "from sklearn.metrics import precision_score, recall_score, f1_score\n",
    "\n",
    "y_pre = tree_clf.predict(X_test)\n",
    "pre = precision_score(y_test, y_pre)\n",
    "recall = recall_score(y_test, y_pre)\n",
    "f1 = f1_score(y_test, y_pre)\n",
    "\n",
    "print(\"决策树分类\\n精确率：%f，召回率：%f，F1：%f\" % (pre, recall, f1))"
   ]
  },
  {
   "cell_type": "code",
   "execution_count": 27,
   "metadata": {},
   "outputs": [
    {
     "name": "stdout",
     "output_type": "stream",
     "text": [
      "最优分类器: {'criterion': 'gini', 'max_depth': 21} 最优分数: 0.6161332612207038\n",
      "DecisionTreeClassifier(class_weight=None, criterion='gini', max_depth=21,\n",
      "            max_features=None, max_leaf_nodes=None,\n",
      "            min_impurity_decrease=0.0, min_impurity_split=None,\n",
      "            min_samples_leaf=1, min_samples_split=2,\n",
      "            min_weight_fraction_leaf=0.0, presort=False, random_state=1,\n",
      "            splitter='best')\n"
     ]
    }
   ],
   "source": [
    "# 使用网格搜索GridSearchCV对决策树进行调参\n",
    "from sklearn.model_selection import GridSearchCV\n",
    "import warnings\n",
    "\n",
    "warnings.filterwarnings('ignore')\n",
    "param = {'criterion':['gini'],'max_depth':range(1,100,10)}\n",
    "grid = GridSearchCV(DecisionTreeClassifier(random_state=1), param_grid=param, cv=10, scoring='f1')\n",
    "grid.fit(X_train, y_train)\n",
    "print('最优分类器:',grid.best_params_,'最优分数:', grid.best_score_)\n",
    "print(grid.best_estimator_)"
   ]
  },
  {
   "cell_type": "code",
   "execution_count": 31,
   "metadata": {},
   "outputs": [
    {
     "name": "stdout",
     "output_type": "stream",
     "text": [
      "决策树分类\n",
      "F1：0.711864\n"
     ]
    }
   ],
   "source": [
    "clf = DecisionTreeClassifier(max_depth=21, random_state=1, min_samples_leaf=1, min_samples_split=2)\n",
    "clf.fit(X_train, y_train)\n",
    "y_new = clf.predict(X_test)\n",
    "f1_new = f1_score(y_test, y_new)\n",
    "\n",
    "print(\"决策树分类\\nF1：%f\" % (f1_new))"
   ]
  },
  {
   "cell_type": "code",
   "execution_count": 21,
   "metadata": {},
   "outputs": [
    {
     "name": "stdout",
     "output_type": "stream",
     "text": [
      "RandomForestClassifier(bootstrap=True, class_weight=None, criterion='gini',\n",
      "            max_depth=31, max_features='auto', max_leaf_nodes=None,\n",
      "            min_impurity_decrease=0.0, min_impurity_split=None,\n",
      "            min_samples_leaf=1, min_samples_split=2,\n",
      "            min_weight_fraction_leaf=0.0, n_estimators=41, n_jobs=None,\n",
      "            oob_score=False, random_state=None, verbose=0,\n",
      "            warm_start=False)\n"
     ]
    }
   ],
   "source": [
    "# 随机森林\n",
    "from sklearn.model_selection import GridSearchCV\n",
    "from sklearn.ensemble import RandomForestClassifier\n",
    "\n",
    "param = {'n_estimators':range(1,101,10) ,'max_depth':range(1,101,10)}\n",
    "grid = GridSearchCV(RandomForestClassifier(), param_grid=param, cv=10, scoring='f1')\n",
    "grid.fit(X_train, y_train)\n",
    "print(grid.best_estimator_)"
   ]
  },
  {
   "cell_type": "code",
   "execution_count": 22,
   "metadata": {},
   "outputs": [
    {
     "data": {
      "text/plain": [
       "0.7017543859649122"
      ]
     },
     "execution_count": 22,
     "metadata": {},
     "output_type": "execute_result"
    }
   ],
   "source": [
    "model = RandomForestClassifier(n_estimators=200,max_depth=20, min_samples_leaf=1, min_samples_split=2,random_state=1)\n",
    "model.fit(X_train, y_train)\n",
    "y_pre = model.predict(X_test)\n",
    "f1 = f1_score(y_test, y_pre)\n",
    "f1"
   ]
  },
  {
   "cell_type": "code",
   "execution_count": 110,
   "metadata": {},
   "outputs": [
    {
     "name": "stdout",
     "output_type": "stream",
     "text": [
      "SVC(C=1.0, cache_size=200, class_weight=None, coef0=0.0,\n",
      "  decision_function_shape='ovr', degree=3, gamma='scale', kernel='rbf',\n",
      "  max_iter=-1, probability=False, random_state=None, shrinking=True,\n",
      "  tol=0.001, verbose=False)\n"
     ]
    }
   ],
   "source": [
    "# 支持向量机\n",
    "from sklearn.svm import SVC\n",
    "import numpy as np\n",
    "\n",
    "\n",
    "c_range =  np.logspace(0,9,10)\n",
    "gamma_range = np.logspace(-5,2,2)\n",
    "param = {'kernel': ['rbf'], 'C': c_range}\n",
    "grid = GridSearchCV(SVC(gamma='scale'), param, cv=3, n_jobs=-1)\n",
    "grid.fit(X_train, y_train)\n",
    "print(grid.best_estimator_)"
   ]
  },
  {
   "cell_type": "code",
   "execution_count": 133,
   "metadata": {},
   "outputs": [
    {
     "name": "stdout",
     "output_type": "stream",
     "text": [
      "SVC(C=0.448, cache_size=200, class_weight='balanced', coef0=0.0,\n",
      "  decision_function_shape='ovr', degree=3, gamma='scale', kernel='rbf',\n",
      "  max_iter=-1, probability=False, random_state=None, shrinking=True,\n",
      "  tol=0.001, verbose=False)\n"
     ]
    },
    {
     "data": {
      "text/plain": [
       "0.7848101265822784"
      ]
     },
     "execution_count": 133,
     "metadata": {},
     "output_type": "execute_result"
    }
   ],
   "source": [
    "# 如果gamma=‘scale’传递，则使用1 /（n_features * X.var（））作为gamma的值\n",
    "model = SVC(C=0.448, gamma= 'scale', class_weight='balanced')\n",
    "model.fit(X_train, y_train)\n",
    "print(model)\n",
    "y_pre = model.predict(X_test)\n",
    "f1 = f1_score(y_test, y_pre)\n",
    "f1"
   ]
  }
 ],
 "metadata": {
  "kernelspec": {
   "display_name": "Python 3",
   "language": "python",
   "name": "python3"
  },
  "language_info": {
   "codemirror_mode": {
    "name": "ipython",
    "version": 3
   },
   "file_extension": ".py",
   "mimetype": "text/x-python",
   "name": "python",
   "nbconvert_exporter": "python",
   "pygments_lexer": "ipython3",
   "version": "3.6.0"
  }
 },
 "nbformat": 4,
 "nbformat_minor": 2
}
